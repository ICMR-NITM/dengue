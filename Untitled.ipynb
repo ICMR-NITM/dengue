{
 "cells": [
  {
   "cell_type": "code",
   "execution_count": 2,
   "metadata": {},
   "outputs": [],
   "source": [
    "import numpy as np\n",
    "import matplotlib.pyplot as plt\n",
    "from pandas import read_csv\n",
    "import pandas as pd\n",
    "import datetime\n",
    "%matplotlib inline\n",
    "\n",
    "df = read_csv('dengue-data.csv', engine = 'python')\n",
    "\n",
    "timeseries = df[\"Date\"]\n",
    "\n",
    "t = []\n",
    "nt = []\n",
    "\n",
    "dx = []\n",
    "\n",
    "for i in range(len(timeseries)):\n",
    "    time  = timeseries[i]\n",
    "    k = time.split('-')\n",
    "    s = k[0]+\"-\"+k[1]+'-01'\n",
    "    t.append(s)\n",
    "    if s not in nt:\n",
    "        nt.append(s)\n",
    "        dx.append(k[0]+'-'+k[1])\n",
    "df['Date'] = t\n",
    "k = df.groupby(['Date']).mean()\n",
    "k.to_csv('processed.csv')"
   ]
  },
  {
   "cell_type": "code",
   "execution_count": null,
   "metadata": {},
   "outputs": [],
   "source": []
  }
 ],
 "metadata": {
  "kernelspec": {
   "display_name": "Python 2",
   "language": "python",
   "name": "python2"
  },
  "language_info": {
   "codemirror_mode": {
    "name": "ipython",
    "version": 2
   },
   "file_extension": ".py",
   "mimetype": "text/x-python",
   "name": "python",
   "nbconvert_exporter": "python",
   "pygments_lexer": "ipython2",
   "version": "2.7.6"
  }
 },
 "nbformat": 4,
 "nbformat_minor": 2
}
